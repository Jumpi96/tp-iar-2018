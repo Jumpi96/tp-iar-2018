{
 "cells": [
  {
   "cell_type": "code",
   "execution_count": 1,
   "metadata": {},
   "outputs": [],
   "source": [
    "import pandas as pd\n",
    "from surprise import Reader, Dataset\n",
    "from surprise import SVD\n",
    "from surprise import accuracy\n",
    "from surprise.model_selection import train_test_split\n",
    "from surprise.model_selection import GridSearchCV\n",
    "import matplotlib.pyplot as plt\n",
    "import matplotlib.patches as mpatches"
   ]
  },
  {
   "cell_type": "code",
   "execution_count": 2,
   "metadata": {},
   "outputs": [
    {
     "name": "stdout",
     "output_type": "stream",
     "text": [
      "(156, 3)\n"
     ]
    },
    {
     "data": {
      "text/html": [
       "<div>\n",
       "<style scoped>\n",
       "    .dataframe tbody tr th:only-of-type {\n",
       "        vertical-align: middle;\n",
       "    }\n",
       "\n",
       "    .dataframe tbody tr th {\n",
       "        vertical-align: top;\n",
       "    }\n",
       "\n",
       "    .dataframe thead th {\n",
       "        text-align: right;\n",
       "    }\n",
       "</style>\n",
       "<table border=\"1\" class=\"dataframe\">\n",
       "  <thead>\n",
       "    <tr style=\"text-align: right;\">\n",
       "      <th></th>\n",
       "      <th>itemID</th>\n",
       "      <th>userID</th>\n",
       "      <th>rating</th>\n",
       "    </tr>\n",
       "  </thead>\n",
       "  <tbody>\n",
       "    <tr>\n",
       "      <th>0</th>\n",
       "      <td>25</td>\n",
       "      <td>20</td>\n",
       "      <td>10</td>\n",
       "    </tr>\n",
       "    <tr>\n",
       "      <th>1</th>\n",
       "      <td>12</td>\n",
       "      <td>20</td>\n",
       "      <td>10</td>\n",
       "    </tr>\n",
       "    <tr>\n",
       "      <th>2</th>\n",
       "      <td>26</td>\n",
       "      <td>17</td>\n",
       "      <td>10</td>\n",
       "    </tr>\n",
       "    <tr>\n",
       "      <th>3</th>\n",
       "      <td>9</td>\n",
       "      <td>26</td>\n",
       "      <td>10</td>\n",
       "    </tr>\n",
       "    <tr>\n",
       "      <th>4</th>\n",
       "      <td>7</td>\n",
       "      <td>26</td>\n",
       "      <td>5</td>\n",
       "    </tr>\n",
       "  </tbody>\n",
       "</table>\n",
       "</div>"
      ],
      "text/plain": [
       "   itemID  userID  rating\n",
       "0      25      20      10\n",
       "1      12      20      10\n",
       "2      26      17      10\n",
       "3       9      26      10\n",
       "4       7      26       5"
      ]
     },
     "execution_count": 2,
     "metadata": {},
     "output_type": "execute_result"
    }
   ],
   "source": [
    "data = pd.read_csv('data_tp2a.csv')\n",
    "data = data.loc[:, data.columns != 'Unnamed: 0']\n",
    "data_dict = {'itemID': list(data.eventoId),\n",
    "             'userID': list(data.userId),\n",
    "             'rating': list(data.rating)}\n",
    "df = pd.DataFrame(data_dict)\n",
    "print(df.shape)\n",
    "df.head()"
   ]
  },
  {
   "cell_type": "code",
   "execution_count": 3,
   "metadata": {},
   "outputs": [],
   "source": [
    "reader = Reader(rating_scale={0, max(data.rating)})\n",
    "data = Dataset.load_from_df(df[['userID', 'itemID', 'rating']], reader)"
   ]
  },
  {
   "cell_type": "code",
   "execution_count": 4,
   "metadata": {},
   "outputs": [],
   "source": [
    "trainset_as_testset, testset = train_test_split(data, test_size=.25)\n",
    "trainset_as_testset = trainset_as_testset.build_testset()\n",
    "training_df = pd.DataFrame(trainset_as_testset, columns=['userID','itemID','rating'])\n",
    "trainset = Dataset.load_from_df(df[['userID', 'itemID', 'rating']], reader)"
   ]
  },
  {
   "cell_type": "code",
   "execution_count": 5,
   "metadata": {},
   "outputs": [
    {
     "name": "stdout",
     "output_type": "stream",
     "text": [
      "{'n_epochs': 1, 'lr_all': 0.12, 'reg_all': 0.0001}\n",
      "Traning error (RMSE): 1.2747045289896823\n",
      "Test error (RMSE): 1.666508886815301\n"
     ]
    }
   ],
   "source": [
    "param_grid = {'n_epochs': [1, 10, 50], \n",
    "              'lr_all': [0.85, 0.10, 0.11, 0.12],\n",
    "              'reg_all': [0.01, 0.005, 0.003, 0.0001]}\n",
    "gs = GridSearchCV(SVD, param_grid, measures=['rmse', 'mae'], cv=6, refit=True)\n",
    "\n",
    "gs.fit(trainset)\n",
    "\n",
    "train_error = accuracy.rmse(gs.test(trainset_as_testset), verbose=False)\n",
    "test_error = accuracy.rmse(gs.test(testset), verbose=False)\n",
    "\n",
    "print(gs.best_params['rmse'])\n",
    "print('Traning error (RMSE): {}'.format(train_error))\n",
    "print('Test error (RMSE): {}'.format(test_error))"
   ]
  },
  {
   "cell_type": "code",
   "execution_count": 9,
   "metadata": {},
   "outputs": [
    {
     "data": {
      "image/png": "[encoded data removed]",
      "text/plain": [
       "<Figure size 432x288 with 1 Axes>"
      ]
     },
     "metadata": {
      "needs_background": "light"
     },
     "output_type": "display_data"
    }
   ],
   "source": [
    "%matplotlib inline\n",
    "training_pred_df = training_df.copy()\n",
    "for i in range(len(trainset_as_testset[0:50])):\n",
    "    training_pred_df.loc[i, 'rating'] = gs.predict(trainset_as_testset[0:50][i][0], trainset_as_testset[0:50][i][1])[3]\n",
    "    \n",
    "f, ax = plt.subplots(1)\n",
    "plt.plot(training_df.index.values[0:50], training_df[0:50]['rating'], 'bo', \n",
    "         training_df.index.values[0:50], training_pred_df[0:50]['rating'], 'ro')\n",
    "ax.set_title('Predicciones sobre datos de entrenamiento')\n",
    "ax.set_ylim(ymin=0, ymax=15)\n",
    "ax.set_xlabel('Usuario en actividad')\n",
    "ax.set_ylabel('Rating de usuario')\n",
    "red_patch = mpatches.Patch(color='red', label='Predicción')\n",
    "blue_patch = mpatches.Patch(color='blue', label='Dato histórico')\n",
    "plt.legend(handles=[red_patch, blue_patch])\n",
    "plt.show(f)"
   ]
  },
  {
   "cell_type": "code",
   "execution_count": 10,
   "metadata": {},
   "outputs": [
    {
     "data": {
      "image/png": "[encoded data removed]",
      "text/plain": [
       "<Figure size 432x288 with 1 Axes>"
      ]
     },
     "metadata": {
      "needs_background": "light"
     },
     "output_type": "display_data"
    }
   ],
   "source": [
    "test_df = pd.DataFrame(testset, columns=['usuario','evento','rating'])\n",
    "prediction_df = pd.DataFrame(testset, columns=['usuario','evento','rating'])\n",
    "for i in range(len(testset[0:50])):\n",
    "    prediction_df.loc[i, 'rating'] = gs.predict(testset[0:50][i][0], testset[0:50][i][1])[3]\n",
    "    \n",
    "f, ax = plt.subplots(1)\n",
    "plt.plot(test_df.index.values[0:50], test_df[0:50]['rating'], 'bo', \n",
    "         test_df.index.values[0:50], prediction_df[0:50]['rating'], 'ro')\n",
    "ax.set_ylim(ymin=0, ymax=15)\n",
    "ax.set_title('Predicciones sobre datos de prueba')\n",
    "ax.set_xlabel('Usuario en actividad')\n",
    "ax.set_ylabel('Rating de usuario')\n",
    "red_patch = mpatches.Patch(color='red', label='Predicción')\n",
    "blue_patch = mpatches.Patch(color='blue', label='Dato histórico')\n",
    "plt.legend(handles=[red_patch, blue_patch])\n",
    "plt.show(f)"
   ]
  },
  {
   "cell_type": "code",
   "execution_count": 8,
   "metadata": {},
   "outputs": [
    {
     "data": {
      "text/plain": [
       "[(7, 9.06), (20, 8.39), (41, 8.27)]"
      ]
     },
     "execution_count": 8,
     "metadata": {},
     "output_type": "execute_result"
    }
   ],
   "source": [
    "eventos = [20, 12, 7, 40, 41]\n",
    "usuario = 27\n",
    "\n",
    "def get_eventos_recommendation(usuario, eventos):\n",
    "    ordered_dict = {}\n",
    "    for evento in eventos:\n",
    "        a = gs.predict(usuario, evento)\n",
    "        ordered_dict[evento] = round(a[3], 2)\n",
    "    return sorted(ordered_dict.items(), key=lambda kv: kv[1], reverse=True)[:3]\n",
    "\n",
    "get_eventos_recommendation(usuario, eventos)"
   ]
  },
  {
   "cell_type": "code",
   "execution_count": null,
   "metadata": {},
   "outputs": [],
   "source": []
  }
 ],
 "metadata": {
  "kernelspec": {
   "display_name": "Python 3",
   "language": "python",
   "name": "python3"
  },
  "language_info": {
   "codemirror_mode": {
    "name": "ipython",
    "version": 3
   },
   "file_extension": ".py",
   "mimetype": "text/x-python",
   "name": "python",
   "nbconvert_exporter": "python",
   "pygments_lexer": "ipython3",
   "version": "3.7.0"
  }
 },
 "nbformat": 4,
 "nbformat_minor": 2
}
